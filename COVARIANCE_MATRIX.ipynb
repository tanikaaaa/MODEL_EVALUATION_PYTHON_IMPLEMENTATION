{
  "nbformat": 4,
  "nbformat_minor": 0,
  "metadata": {
    "colab": {
      "provenance": []
    },
    "kernelspec": {
      "name": "python3",
      "display_name": "Python 3"
    },
    "language_info": {
      "name": "python"
    }
  },
  "cells": [
    {
      "cell_type": "code",
      "execution_count": 1,
      "metadata": {
        "colab": {
          "base_uri": "https://localhost:8080/"
        },
        "id": "W3d4WWUqwNjO",
        "outputId": "423c2288-3e6b-4ed6-a976-b7fce54d9930"
      },
      "outputs": [
        {
          "output_type": "stream",
          "name": "stdout",
          "text": [
            "Covariance Matrix:\n",
            " [[ 5.3  -2.75  1.5 ]\n",
            " [-2.75  2.5  -0.25]\n",
            " [ 1.5  -0.25  2.5 ]]\n"
          ]
        }
      ],
      "source": [
        "import numpy as np\n",
        "\n",
        "def covariance_matrix(dataset):\n",
        "    rows, cols = dataset.shape\n",
        "    mean_vals = np.mean(dataset, axis=0)\n",
        "    adjusted_data = dataset - mean_vals\n",
        "    cov_matrix = np.dot(adjusted_data.T, adjusted_data) / (rows - 1)\n",
        "    return cov_matrix\n",
        "\n",
        "sample_data = np.array([\n",
        "    [3, 7, 5],\n",
        "    [2, 9, 6],\n",
        "    [4, 6, 8],\n",
        "    [8, 5, 7],\n",
        "    [5, 8, 9]\n",
        "])\n",
        "\n",
        "result = covariance_matrix(sample_data)\n",
        "print(\"Covariance Matrix:\\n\", result)\n"
      ]
    }
  ]
}