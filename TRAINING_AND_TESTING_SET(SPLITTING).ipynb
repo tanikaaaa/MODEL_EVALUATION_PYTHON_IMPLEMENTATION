{
  "nbformat": 4,
  "nbformat_minor": 0,
  "metadata": {
    "colab": {
      "provenance": []
    },
    "kernelspec": {
      "name": "python3",
      "display_name": "Python 3"
    },
    "language_info": {
      "name": "python"
    }
  },
  "cells": [
    {
      "cell_type": "code",
      "execution_count": 2,
      "metadata": {
        "colab": {
          "base_uri": "https://localhost:8080/"
        },
        "id": "_bMYWJLC6t9v",
        "outputId": "fc5ca1e7-4097-47fe-b27f-0b9c000327bc"
      },
      "outputs": [
        {
          "output_type": "stream",
          "name": "stdout",
          "text": [
            "TRAINING DATA:\n",
            " [[3.4 4. ]\n",
            " [4.2 4.8]\n",
            " [2.1 3.4]\n",
            " [1.9 2.8]\n",
            " [2.2 3.1]\n",
            " [3.2 3.9]\n",
            " [4.7 5.3]\n",
            " [2.  3.5]\n",
            " [2.5 3.2]\n",
            " [1.7 2.6]]\n",
            "\n",
            "LABELS OF TRAINING DATA:\n",
            " [0 0 0 1 1 0 0 1 1 1]\n",
            "\n",
            "TESTING DATA:\n",
            " [[3.1 3.7]\n",
            " [3.9 4.6]\n",
            " [1.8 2.7]\n",
            " [3.6 4.1]\n",
            " [1.3 2.9]]\n",
            "\n",
            "LABELS OF TESTING DATA:\n",
            " [0 0 1 0 1]\n"
          ]
        }
      ],
      "source": [
        "import numpy as np\n",
        "from sklearn.model_selection import train_test_split\n",
        "\n",
        "def split_dataset(data, labels, split_ratio=0.2, seed=None):\n",
        "    first_set, second_set, first_labels, second_labels = train_test_split(\n",
        "        data, labels, test_size=split_ratio, stratify=labels, random_state=seed\n",
        "    )\n",
        "\n",
        "    return first_set, second_set, first_labels, second_labels\n",
        "\n",
        "\n",
        "\n",
        "\n",
        "data_points = np.array([\n",
        "    [2.1, 3.4], [1.3, 2.9], [3.6, 4.1], [2.2, 3.1], [1.7, 2.6],\n",
        "    [3.2, 3.9], [4.7, 5.3], [3.9, 4.6], [2.5, 3.2], [1.9, 2.8],\n",
        "    [3.4, 4.0], [2.0, 3.5], [4.2, 4.8], [1.8, 2.7], [3.1, 3.7]\n",
        "])\n",
        "\n",
        "\n",
        "class_labels = np.array([0, 1, 0, 1, 1, 0, 0, 0, 1, 1, 0, 1, 0, 1, 0])\n",
        "\n",
        "train_set, test_set, train_labels, test_labels = split_dataset(data_points, class_labels, split_ratio=0.3, seed=7)\n",
        "\n",
        "\n",
        "print(\"TRAINING DATA:\\n\", train_set)\n",
        "print()\n",
        "print(\"LABELS OF TRAINING DATA:\\n\", train_labels)\n",
        "print()\n",
        "print(\"TESTING DATA:\\n\", test_set)\n",
        "print()\n",
        "print(\"LABELS OF TESTING DATA:\\n\", test_labels)\n"
      ]
    }
  ]
}