{
  "nbformat": 4,
  "nbformat_minor": 0,
  "metadata": {
    "colab": {
      "provenance": []
    },
    "kernelspec": {
      "name": "python3",
      "display_name": "Python 3"
    },
    "language_info": {
      "name": "python"
    }
  },
  "cells": [
    {
      "cell_type": "code",
      "execution_count": 2,
      "metadata": {
        "colab": {
          "base_uri": "https://localhost:8080/"
        },
        "id": "2QvimNQslMS6",
        "outputId": "2c0c1f88-a7a8-401a-854f-cdd62910db49"
      },
      "outputs": [
        {
          "output_type": "stream",
          "name": "stdout",
          "text": [
            "Train Errors (Per Fold): [0.11250000000000004, 0.11250000000000004, 0.13124999999999998, 0.07499999999999996, 0.11250000000000004]\n",
            "Test Errors (Per Fold): [0.07499999999999996, 0.07499999999999996, 0.050000000000000044, 0.25, 0.15000000000000002]\n",
            "Mean Train Error: 0.1088\n",
            "Mean Test Error: 0.1200\n"
          ]
        }
      ],
      "source": [
        "import numpy as np\n",
        "from sklearn.model_selection import KFold\n",
        "from sklearn.datasets import make_classification\n",
        "from sklearn.linear_model import LogisticRegression\n",
        "from sklearn.metrics import accuracy_score\n",
        "\n",
        "features, labels = make_classification(n_samples=200, n_features=5)\n",
        "\n",
        "num_folds = 5\n",
        "kf = KFold(n_splits=num_folds, shuffle=True)\n",
        "\n",
        "train_errors = []\n",
        "test_errors = []\n",
        "\n",
        "for train_idx, test_idx in kf.split(features):\n",
        "    X_train, X_test = features[train_idx], features[test_idx]\n",
        "    y_train, y_test = labels[train_idx], labels[test_idx]\n",
        "\n",
        "    model = LogisticRegression()\n",
        "    model.fit(X_train, y_train)\n",
        "\n",
        "    train_predictions = model.predict(X_train)\n",
        "    test_predictions = model.predict(X_test)\n",
        "\n",
        "    train_accuracy = accuracy_score(y_train, train_predictions)\n",
        "    test_accuracy = accuracy_score(y_test, test_predictions)\n",
        "\n",
        "    train_errors.append(1 - train_accuracy)\n",
        "    test_errors.append(1 - test_accuracy)\n",
        "\n",
        "mean_train_error = np.mean(train_errors)\n",
        "mean_test_error = np.mean(test_errors)\n",
        "\n",
        "print(f\"Train Errors (Per Fold): {train_errors}\")\n",
        "print(f\"Test Errors (Per Fold): {test_errors}\")\n",
        "print(f\"Mean Train Error: {mean_train_error:.4f}\")\n",
        "print(f\"Mean Test Error: {mean_test_error:.4f}\")\n"
      ]
    }
  ]
}